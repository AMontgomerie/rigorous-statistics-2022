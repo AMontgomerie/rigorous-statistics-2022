{
 "cells": [
  {
   "cell_type": "markdown",
   "metadata": {},
   "source": [
    "# Distributions of discrete random variables\n",
    "\n",
    "Consider the four-element sample space\n",
    "\n",
    "$\\Omega=\\left\\{ 0,1\\right\\} \\times\\left\\{ 0,1\\right\\}$\n",
    "\n",
    "$\\Omega = {(0,0),(0,1),(1,0),(1,1)}$\n",
    "\n",
    "Its elements will be denoted\n",
    "\n",
    "$\\left(\\omega_{1},\\omega_{2}\\right)$\n",
    "\n",
    "One can think of $\\Omega$ as corresponding to two coin flips.\n",
    "We specify the event space $\\mathcal{F}$ as the power set of $\\Omega$, that is, the set of all subsets of $\\Omega$.\n",
    "We choose the probability measure $P$ to assigns equal probability to each outcome in $\\Omega$.\n",
    "The corresponding probability space is the triplet $\\left(\\Omega,\\mathcal{F},P\\right)$.\n",
    "\n",
    "## 1.\n",
    "Define a random variable $X$ as\n",
    "\n",
    "$X\\left(\\omega_{1},\\omega_{2}\\right)=\\omega_{1}+\\omega_{2}$\n",
    "\n",
    "What is the minimum and maximum of $X$? What is the mean value (i.e. expectation) of this variable? What is the cumulative distribution function of $X$? Answer these questions analytically and use numerical simulations in Python as a check of correctness of your answers."
   ]
  },
  {
   "cell_type": "markdown",
   "metadata": {},
   "source": [
    "### Analytic solution\n",
    "\n",
    "$$\n",
    "outcomes = \n",
    "\\begin{cases}\n",
    "0 + 0 = 0 \\\\\n",
    "0 + 1 = 1 \\\\\n",
    "1 + 0 = 1 \\\\\n",
    "1 + 1 = 2 \\\\\n",
    "\\end{cases}\n",
    "$$\n",
    "$$min = 0$$\n",
    "$$max = 2$$\n",
    "$$mean = \\dfrac{(0+0) + (0+1) + (1+0) + (1+1)} 4 = 1$$\n",
    "$$\n",
    "CDF = \n",
    "\\begin{cases}\n",
    "\\begin{array}{l l}\n",
    "0 & \\quad \\text{for } x < 0\\\\\n",
    "\\frac{1}{4} & \\quad \\text{for } 0 \\leq x < 1\\\\\n",
    "\\frac{3}{4} & \\quad \\text{for } 1 \\leq x < 2 \\\\\n",
    "1 & \\quad \\text{for } x \\geq 2\\\\\n",
    "\\end{array}\n",
    "\\end{cases}\n",
    "$$"
   ]
  },
  {
   "cell_type": "markdown",
   "metadata": {},
   "source": [
    "### Simulation"
   ]
  },
  {
   "cell_type": "code",
   "execution_count": 1,
   "metadata": {},
   "outputs": [],
   "source": [
    "import numpy as np\n",
    "from typing import List, Tuple, Callable\n",
    "import matplotlib.pyplot as plt\n",
    "\n",
    "def X(w1: int, w2: int) -> int: \n",
    "    return w1 + w2\n",
    "\n",
    "\n",
    "def simulate(\n",
    "    omega: List[Tuple[int, int]], \n",
    "    rdm_var: Callable, \n",
    "    num_draws: int\n",
    ") -> List[int]:\n",
    "    draws = []\n",
    "    \n",
    "    for _ in range(num_draws):\n",
    "        choice = np.random.choice(np.arange(len(omega)))\n",
    "        draw = rdm_var(*omega[choice])\n",
    "        draws.append(draw)\n",
    "\n",
    "    return draws\n",
    "\n",
    "\n",
    "def cdf(draws: List[int]) -> None:\n",
    "    bins = [i for i in range(min(draws)-1, max(draws) + 2)]\n",
    "    running_total = 0\n",
    "\n",
    "    for b in bins:\n",
    "        running_total += draws.count(b) / len(draws)\n",
    "        print(f\"{b}: {running_total}\")\n",
    "\n",
    "    plt.hist(\n",
    "        draws, \n",
    "        bins=bins, \n",
    "        density=1, \n",
    "        cumulative=True, \n",
    "        label='CDF'\n",
    "    )"
   ]
  },
  {
   "cell_type": "code",
   "execution_count": 2,
   "metadata": {},
   "outputs": [
    {
     "name": "stdout",
     "output_type": "stream",
     "text": [
      "min = 0\n",
      "max = 2\n",
      "mean = 1.00289\n",
      "-1: 0.0\n",
      "0: 0.24904\n",
      "1: 0.74807\n",
      "2: 1.0\n",
      "3: 1.0\n"
     ]
    },
    {
     "data": {
      "image/png": "[encoded data removed]",
      "text/plain": [
       "<Figure size 432x288 with 1 Axes>"
      ]
     },
     "metadata": {
      "needs_background": "light"
     },
     "output_type": "display_data"
    }
   ],
   "source": [
    "num_draws = 100_000\n",
    "omega = [(0, 0), (0, 1), (1, 0), (1, 1)]\n",
    "draws = simulate(omega, X, num_draws)\n",
    "\n",
    "print(f\"min = {min(draws)}\")\n",
    "print(f\"max = {max(draws)}\")\n",
    "print(f\"mean = {np.mean(draws)}\")\n",
    "cdf(draws)"
   ]
  },
  {
   "cell_type": "markdown",
   "metadata": {},
   "source": [
    "## 2.\n",
    "\n",
    "Define a random variable $Y$ as\n",
    "\n",
    "$Y\\left(\\omega_{1},\\omega_{2}\\right)=\\omega_{1}-\\omega_{2}$\n",
    "\n",
    "What is the minimum and maximum of $Y$? What is the mean value (i.e. expectation) of this variable? What is the cumulative distribution function of $Y$? Answer these questions analytically and use numerical simulations in Python as a check of correctness of your answers."
   ]
  },
  {
   "cell_type": "markdown",
   "metadata": {},
   "source": [
    "### Analytic Solution\n",
    "\n",
    "$$\n",
    "outcomes = \n",
    "\\begin{cases}\n",
    "0 - 0 = 0 \\\\\n",
    "0 - 1 = -1 \\\\\n",
    "1 - 0 = 1 \\\\\n",
    "1 - 1 = 0 \\\\\n",
    "\\end{cases}\n",
    "$$\n",
    "$$min = -1$$\n",
    "$$max = 1$$\n",
    "$$mean = \\dfrac{(0-0) + (0-1) + (1-0) + (1-1)} 4 = 0$$\n",
    "$$\n",
    "CDF = \n",
    "\\begin{cases}\n",
    "\\begin{array}{l l}\n",
    "0 & \\quad \\text{for } x < -1 \\\\\n",
    "\\frac{1}{4} & \\quad \\text{for } -1 \\leq x < 0\\\\\n",
    "\\frac{3}{4} & \\quad \\text{for } 0 \\leq x < 1\\\\\n",
    "1 & \\quad \\text{for } x \\geq 1 \\\\\n",
    "\\end{array}\n",
    "\\end{cases}\n",
    "$$"
   ]
  },
  {
   "cell_type": "markdown",
   "metadata": {},
   "source": [
    "### Simulation"
   ]
  },
  {
   "cell_type": "code",
   "execution_count": 3,
   "metadata": {},
   "outputs": [
    {
     "name": "stdout",
     "output_type": "stream",
     "text": [
      "min = -1\n",
      "max = 1\n",
      "mean = 0.00081\n",
      "-2: 0.0\n",
      "-1: 0.24894\n",
      "0: 0.7502500000000001\n",
      "1: 1.0\n",
      "2: 1.0\n"
     ]
    },
    {
     "data": {
      "image/png": "[encoded data removed]",
      "text/plain": [
       "<Figure size 432x288 with 1 Axes>"
      ]
     },
     "metadata": {
      "needs_background": "light"
     },
     "output_type": "display_data"
    }
   ],
   "source": [
    "def Y(w1: int, w2: int) -> int:\n",
    "    return w1 - w2\n",
    "\n",
    "\n",
    "draws = simulate(omega, Y, num_draws)\n",
    "\n",
    "print(f\"min = {min(draws)}\")\n",
    "print(f\"max = {max(draws)}\")\n",
    "print(f\"mean = {np.mean(draws)}\")\n",
    "cdf(draws)"
   ]
  }
 ],
 "metadata": {
  "interpreter": {
   "hash": "2e90dbef425eb192c9b7640112b067997a4a37b0e5c7b44d9355aeb19f207c8d"
  },
  "kernelspec": {
   "display_name": "Python 3.8.3 ('base')",
   "language": "python",
   "name": "python3"
  },
  "language_info": {
   "codemirror_mode": {
    "name": "ipython",
    "version": 3
   },
   "file_extension": ".py",
   "mimetype": "text/x-python",
   "name": "python",
   "nbconvert_exporter": "python",
   "pygments_lexer": "ipython3",
   "version": "3.8.3"
  },
  "orig_nbformat": 4
 },
 "nbformat": 4,
 "nbformat_minor": 2
}
