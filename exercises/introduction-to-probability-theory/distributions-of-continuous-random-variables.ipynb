{
 "cells": [
  {
   "cell_type": "markdown",
   "metadata": {},
   "source": [
    "# Distributions of Continuous Random Variables\n",
    "\n",
    "Consider a sample space of the form\n",
    "$$\\Omega=\\left[0,1\\right]\\times\\left[0,1\\right]$$\n",
    "\n",
    "i.e. the space of pairs $\\left(\\omega_{1},\\omega_{2}\\right)$ of real numbers that are both greater than or equal to 0 and smaller than or equal to 1.\n",
    "Let us consider a probability space based on this sample space. The space of events will be the two-dimensional version of the Borel $\\sigma$-field restricted to the set $\\left[0,1\\right]\\times\\left[0,1\\right]$. Do not worry too much about the exact specification of this space of events.\n",
    "\n",
    "More importantly, for the probability measure, let us choose a uniform distribution on $\\Omega$."
   ]
  },
  {
   "cell_type": "markdown",
   "metadata": {},
   "source": [
    "Define a random variable $X$ as\n",
    "$$X\\left(\\omega_{1},\\omega_{2}\\right)=\\omega_{1}+\\omega_{2}$$\n",
    "\n",
    "What is the minimum and maximum of $X$? What is the mean value (i.e. expectation) of this variable? What is the cumulative distribution function of $X$? Answer these questions analytically and use numerical simulations in Python as a check of correctness of your answers."
   ]
  },
  {
   "cell_type": "markdown",
   "metadata": {},
   "source": [
    "### Analytic solution\n",
    "\n",
    "$$min = 0$$\n",
    "$$max = 2$$\n",
    "$$mean = 1$$\n",
    "$$\n",
    "CDF = \n",
    "\\begin{cases}\n",
    "0 & \\quad \\text{for } x < 0\\\\\n",
    "???? & \\quad \\text{for } 0 \\leq x < 2\\\\\n",
    "0 & \\quad \\text{for } x > 2\\\\\n",
    "\\end{cases}\n",
    "$$"
   ]
  },
  {
   "cell_type": "code",
   "execution_count": 47,
   "metadata": {},
   "outputs": [],
   "source": [
    "import numpy as np\n",
    "import seaborn as sns\n",
    "\n",
    "def X(w1, w2): return w1 + w2\n",
    "\n",
    "\n",
    "def simulate(rdm_var, num_draws):\n",
    "    w1 = np.random.uniform(0, 1, num_draws)\n",
    "    w2 = np.random.uniform(0, 1, num_draws)\n",
    "    return rdm_var(w1, w2)"
   ]
  },
  {
   "cell_type": "code",
   "execution_count": 59,
   "metadata": {},
   "outputs": [
    {
     "name": "stdout",
     "output_type": "stream",
     "text": [
      "min: 0.003717099176376415\n",
      "max: 1.9931120916175107\n",
      "mean: 0.9998426726568764\n"
     ]
    },
    {
     "data": {
      "text/plain": [
       "<matplotlib.axes._subplots.AxesSubplot at 0x7fbdc1f910a0>"
      ]
     },
     "execution_count": 59,
     "metadata": {},
     "output_type": "execute_result"
    },
    {
     "data": {
      "image/png": "[encoded data removed]",
      "text/plain": [
       "<Figure size 432x288 with 1 Axes>"
      ]
     },
     "metadata": {
      "needs_background": "light"
     },
     "output_type": "display_data"
    }
   ],
   "source": [
    "num_draws = 100_000\n",
    "draws = simulate(X, num_draws)\n",
    "print(\"min:\", min(draws))\n",
    "print(\"max:\", max(draws))\n",
    "print(\"mean:\", np.mean(draws))\n",
    "sns.kdeplot(data=draws, cumulative=True, label=\"CDF(X)\")"
   ]
  },
  {
   "cell_type": "markdown",
   "metadata": {},
   "source": [
    "Define a random variable $Y$ as\n",
    "$$Y\\left(\\omega_{1},\\omega_{2}\\right)=\\omega_{1}-\\omega_{2}$$\n",
    "\n",
    "What is the minimum and maximum of $Y$? What is the mean value (i.e. expectation) of this variable? What is the cumulative distribution function of $Y$? Answer these questions analytically and use numerical simulations in Python as a check of correctness of your answers."
   ]
  },
  {
   "cell_type": "markdown",
   "metadata": {},
   "source": [
    "### Analytic solution\n",
    "\n",
    "$$min = -1$$\n",
    "$$max = 1$$\n",
    "$$mean = 0$$\n",
    "$$\n",
    "CDF = \n",
    "\\begin{cases}\n",
    "0 & \\quad \\text{for } x < -1\\\\\n",
    "???? & \\quad \\text{for } -1 \\leq x < 1\\\\\n",
    "0 & \\quad \\text{for } x > 1\\\\\n",
    "\\end{cases}\n",
    "$$"
   ]
  },
  {
   "cell_type": "code",
   "execution_count": 60,
   "metadata": {},
   "outputs": [
    {
     "name": "stdout",
     "output_type": "stream",
     "text": [
      "min: -0.9970007361479335\n",
      "max: 0.9918359864819245\n",
      "mean: 0.000714716465350821\n"
     ]
    },
    {
     "data": {
      "text/plain": [
       "<matplotlib.axes._subplots.AxesSubplot at 0x7fbe42254c70>"
      ]
     },
     "execution_count": 60,
     "metadata": {},
     "output_type": "execute_result"
    },
    {
     "data": {
      "image/png": "[encoded data removed]",
      "text/plain": [
       "<Figure size 432x288 with 1 Axes>"
      ]
     },
     "metadata": {
      "needs_background": "light"
     },
     "output_type": "display_data"
    }
   ],
   "source": [
    "def Y(w1, w2): return w1 - w2\n",
    "\n",
    "\n",
    "num_draws = 100_000\n",
    "draws = simulate(Y, num_draws)\n",
    "print(\"min:\", min(draws))\n",
    "print(\"max:\", max(draws))\n",
    "print(\"mean:\", np.mean(draws))\n",
    "sns.kdeplot(data=draws, cumulative=True, label=\"CDF(Y)\")"
   ]
  }
 ],
 "metadata": {
  "interpreter": {
   "hash": "2e90dbef425eb192c9b7640112b067997a4a37b0e5c7b44d9355aeb19f207c8d"
  },
  "kernelspec": {
   "display_name": "Python 3.8.3 ('base')",
   "language": "python",
   "name": "python3"
  },
  "language_info": {
   "codemirror_mode": {
    "name": "ipython",
    "version": 3
   },
   "file_extension": ".py",
   "mimetype": "text/x-python",
   "name": "python",
   "nbconvert_exporter": "python",
   "pygments_lexer": "ipython3",
   "version": "3.8.3"
  },
  "orig_nbformat": 4
 },
 "nbformat": 4,
 "nbformat_minor": 2
}
