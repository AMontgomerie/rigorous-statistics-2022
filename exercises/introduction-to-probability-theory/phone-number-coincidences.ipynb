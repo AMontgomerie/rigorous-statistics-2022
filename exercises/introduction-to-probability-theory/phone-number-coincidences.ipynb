{
 "cells": [
  {
   "cell_type": "markdown",
   "metadata": {},
   "source": [
    "# Phone number coincidences\n",
    "\n",
    "In a group of 40 people, what is the probability that at least two of them share the same last three digits of their phone number? Assume that each person has one phone number and that the last three digits of phone numbers are independently drawn from the uniform distribution.\n",
    "(For clarity: For two people to have the same last three digits, each of the last three digits must separately agree and they must be in the same order.)\n",
    "First, answer this question using a numerical simulation of many random instances of this situation. Then find an analytic expression for this probability using combinatorics. If the answers don't approximately agree, check for coding mistakes and logical mistakes."
   ]
  },
  {
   "cell_type": "code",
   "execution_count": 1,
   "metadata": {},
   "outputs": [],
   "source": [
    "import numpy as np\n",
    "from scipy.stats import randint"
   ]
  },
  {
   "cell_type": "code",
   "execution_count": 21,
   "metadata": {},
   "outputs": [
    {
     "data": {
      "text/plain": [
       "0.54703"
      ]
     },
     "execution_count": 21,
     "metadata": {},
     "output_type": "execute_result"
    }
   ],
   "source": [
    "# numerical simulation\n",
    "\n",
    "def run_simulation(num_digits: int = 3, num_people: int = 40) -> bool:\n",
    "    draws = randint(0, 10).rvs(size=(num_people, num_digits))\n",
    "    numbers = draws[:, 0] * 100 + draws[:, 1] * 10 + draws[:, 2]\n",
    "    _, counts = np.unique(numbers, return_counts=True)\n",
    "    return len(counts[counts > 1]) > 0\n",
    "\n",
    "n_trials = 100_000\n",
    "probabilities = [run_simulation() for _ in range(n_trials)]\n",
    "np.mean(probabilities)"
   ]
  },
  {
   "cell_type": "code",
   "execution_count": 22,
   "metadata": {},
   "outputs": [
    {
     "data": {
      "text/plain": [
       "0.5463719707129396"
      ]
     },
     "execution_count": 22,
     "metadata": {},
     "output_type": "execute_result"
    }
   ],
   "source": [
    "# analytic solution\n",
    "\n",
    "num_people = 40\n",
    "unique_digits = 10\n",
    "num_digits = 3\n",
    "combinations = unique_digits ** num_digits\n",
    "\n",
    "# compute the probability that all phone numbers are unique\n",
    "probability_unique = 1\n",
    "for c in range(combinations-1, combinations-num_people, -1):\n",
    "    probability_unique *= c / combinations\n",
    "\n",
    "# the probability of a match is 1 - the probility of no matches\n",
    "1 - probability_unique"
   ]
  }
 ],
 "metadata": {
  "interpreter": {
   "hash": "aee8b7b246df8f9039afb4144a1f6fd8d2ca17a180786b69acc140d282b71a49"
  },
  "kernelspec": {
   "display_name": "Python 3.9.4 64-bit",
   "language": "python",
   "name": "python3"
  },
  "language_info": {
   "codemirror_mode": {
    "name": "ipython",
    "version": 3
   },
   "file_extension": ".py",
   "mimetype": "text/x-python",
   "name": "python",
   "nbconvert_exporter": "python",
   "pygments_lexer": "ipython3",
   "version": "3.9.4"
  },
  "orig_nbformat": 4
 },
 "nbformat": 4,
 "nbformat_minor": 2
}
